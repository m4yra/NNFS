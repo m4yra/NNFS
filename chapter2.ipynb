{
  "nbformat": 4,
  "nbformat_minor": 0,
  "metadata": {
    "colab": {
      "provenance": [],
      "authorship_tag": "ABX9TyOdcDDAbrrjJozjyM6VOWLE"
    },
    "kernelspec": {
      "name": "python3",
      "display_name": "Python 3"
    },
    "language_info": {
      "name": "python"
    }
  },
  "cells": [
    {
      "cell_type": "markdown",
      "source": [
        "#Chapter 2\n"
      ],
      "metadata": {
        "id": "EH3dpAZe9AwP"
      }
    },
    {
      "cell_type": "code",
      "source": [
        "#single neuron\n",
        "input=[1,2,3,2.5]\n",
        "weights=[0.2,0.8,-0.5,1.0]\n",
        "bias=2\n",
        "output=(input[0]*weights[0] + input[1]*weights[1] + input[2]*weights[2] + input[3]*weights[3] + bias)\n",
        "print(output)"
      ],
      "metadata": {
        "colab": {
          "base_uri": "https://localhost:8080/"
        },
        "id": "HBPoiLcC-efh",
        "outputId": "cf3a0b07-74c4-4b86-c584-bc13009b3ed1"
      },
      "execution_count": null,
      "outputs": [
        {
          "output_type": "stream",
          "name": "stdout",
          "text": [
            "4.8\n"
          ]
        }
      ]
    },
    {
      "cell_type": "code",
      "source": [
        "#multi neurons, a layer\n",
        "inp=[1,2,3,2.5]\n",
        "w1=[0.2,0.8,-0.5,1.0]\n",
        "w2=[0.5, -0.91, 0.26, -0.5]\n",
        "w3=[-0.26, -0.27, 0.17, 0.87]\n",
        "\n",
        "b1=2\n",
        "b2=3\n",
        "b3=0.5\n",
        "\n",
        "o1=inp[0]*w1[0] + inp[1]*w1[1] + inp[2]*w1[2] + inp[3]*w1[3] +b1\n",
        "o2=inp[0]*w2[0] + inp[1]*w2[1] + inp[2]*w2[2] + inp[3]*w2[3] +b2\n",
        "o3=inp[0]*w3[0] + inp[1]*w3[1] + inp[2]*w3[2] + inp[3]*w3[3] +b3\n",
        "\n",
        "outputs=[o1,o2,o3]\n",
        "print(outputs)\n"
      ],
      "metadata": {
        "colab": {
          "base_uri": "https://localhost:8080/"
        },
        "id": "x74xO9Oh_6-q",
        "outputId": "e6ce5e9b-0e64-488e-b82b-ac9a6ea01bf0"
      },
      "execution_count": null,
      "outputs": [
        {
          "output_type": "stream",
          "name": "stdout",
          "text": [
            "[4.8, 1.21, 2.385]\n"
          ]
        }
      ]
    },
    {
      "cell_type": "code",
      "source": [
        "#laye of neurons w basic python\n",
        "input1=[1,2,3,2.5]\n",
        "weights1=[[0.2, 0.8, -0.5, 1.0],[0.5, -0.91, 0.26, -0.5],[-0.26,-0.27,0.17,0.87]]\n",
        "biases=[2,3,0.5]\n",
        "layers_out=[]\n",
        "\n",
        "for n_weightS,n_bias in zip(weights,biases):\n",
        "  n_output=0\n",
        "  for n_input,n_weight in zip(input1,n_weightS):\n",
        "    n_output+=n_input*n_weight\n",
        "  n_output+=n_bias\n",
        "  layers_out.append(n_output)\n",
        "\n",
        "print(layers_out)\n"
      ],
      "metadata": {
        "colab": {
          "base_uri": "https://localhost:8080/"
        },
        "id": "xrDpKExYDbh2",
        "outputId": "cc0d55e7-444f-49fd-9024-fe80f3b053dd"
      },
      "execution_count": null,
      "outputs": [
        {
          "output_type": "stream",
          "name": "stdout",
          "text": [
            "[4.8, 1.21, 2.385]\n"
          ]
        }
      ]
    },
    {
      "cell_type": "code",
      "source": [
        "#Layer of neuron with numpy\n",
        "import numpy as np\n",
        "inp1=[1,2,3,2.5]\n",
        "npweights=[[0.2,0.8,-0.5,1],[0.5,-0.91,0.26,-0.5],[-0.26,-0.27,0.17,0.87]]\n",
        "npbiases=[2,3,0.5]\n",
        "\n",
        "np_layer_out=np.dot(npweights,inp1)+npbiases\n",
        "print(np_layer_out)"
      ],
      "metadata": {
        "colab": {
          "base_uri": "https://localhost:8080/"
        },
        "id": "8Pg_mNwSNz-x",
        "outputId": "1c265d3e-0a79-4303-93fe-47180140d60d"
      },
      "execution_count": 2,
      "outputs": [
        {
          "output_type": "stream",
          "name": "stdout",
          "text": [
            "[4.8   1.21  2.385]\n"
          ]
        }
      ]
    },
    {
      "cell_type": "code",
      "source": [
        "#Batch of data\n",
        "batchinput=[[1,2,3,2.5],[2.0,5.0,-1.0,2.0],[-1.5,2.7,3.3,-0.8]]\n",
        "batchweights=[[0.2,0.8,-0.5,1],[0.5,-0.91,0.26,-0.5],[-0.26,-0.27,0.17,0.87]]\n",
        "npbiases=[2,3,0.5]\n",
        "\n",
        "batchout=np.dot(batchinput,np.array(batchweights).T)+npbiases\n",
        "print(batchout)"
      ],
      "metadata": {
        "colab": {
          "base_uri": "https://localhost:8080/"
        },
        "id": "Mmbc9R4W65sg",
        "outputId": "15066c1e-8fca-4ba4-9745-2f62380abc39"
      },
      "execution_count": 3,
      "outputs": [
        {
          "output_type": "stream",
          "name": "stdout",
          "text": [
            "[[ 4.8    1.21   2.385]\n",
            " [ 8.9   -1.81   0.2  ]\n",
            " [ 1.41   1.051  0.026]]\n"
          ]
        }
      ]
    }
  ]
}
